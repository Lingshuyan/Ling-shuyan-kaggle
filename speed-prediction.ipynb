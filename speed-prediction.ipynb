{
 "cells": [
  {
   "cell_type": "markdown",
   "metadata": {},
   "source": [
    "# Import Python Packages Needed  "
   ]
  },
  {
   "cell_type": "code",
   "execution_count": 34,
   "metadata": {},
   "outputs": [],
   "source": [
    "import numpy as np\n",
    "import pandas as pd \n",
    "import xgboost as xgb"
   ]
  },
  {
   "cell_type": "markdown",
   "metadata": {},
   "source": [
    "# Read and Process Train data set "
   ]
  },
  {
   "cell_type": "code",
   "execution_count": 26,
   "metadata": {},
   "outputs": [],
   "source": [
    "data=pd.read_csv(\".../train.csv\")\n",
    "data['date'] = pd.to_datetime(data['date'])\n",
    "data['year'] = data['date'].dt.year\n",
    "data['month'] = data['date'].dt.month\n",
    "data['day'] = data['date'].dt.day\n",
    "data['hour'] = data['date'].dt.hour\n",
    "data['minute'] = data['date'].dt.minute\n",
    "data['weekday'] = data['date'].dt.dayofweek"
   ]
  },
  {
   "cell_type": "markdown",
   "metadata": {},
   "source": [
    "# Read and Process Weather data set "
   ]
  },
  {
   "cell_type": "code",
   "execution_count": 27,
   "metadata": {},
   "outputs": [],
   "source": [
    "weather = pd.DataFrame(pd.read_excel(\".../weather.xlsx\"))\n",
    "weather['date'] = pd.to_datetime(weather['date'])\n",
    "weather['year'] = weather['date'].dt.year\n",
    "weather['month'] = weather['date'].dt.month\n",
    "weather['day'] = weather['date'].dt.day\n",
    "weather['tem_high']=weather['tem_high'].str.replace('℃','').astype('int32')\n",
    "weather['tem_low']=weather['tem_low'].str.replace('℃','').astype('int32')\n",
    "\n",
    "from sklearn.preprocessing import LabelEncoder    #用于Label编码\n",
    "\n",
    "lf=LabelEncoder().fit(weather['wea_day'])\n",
    "weather['wea_day']=lf.transform(weather['wea_day'])\n",
    "\n",
    "lf=LabelEncoder().fit(weather['wea_night'])\n",
    "weather['wea_night']=lf.transform(weather['wea_night'])\n",
    "\n",
    "lf=LabelEncoder().fit(weather['wind'])\n",
    "weather['wind']=lf.transform(weather['wind'])"
   ]
  },
  {
   "cell_type": "markdown",
   "metadata": {},
   "source": [
    "# Merge the Train dataset and the Weather dataset"
   ]
  },
  {
   "cell_type": "code",
   "execution_count": 28,
   "metadata": {},
   "outputs": [],
   "source": [
    "#data.join(weather,'date1')\n",
    "wash_data=pd.merge(data,weather, on=[\"year\",\"month\",\"day\"])"
   ]
  },
  {
   "cell_type": "markdown",
   "metadata": {},
   "source": [
    "# Set model parameters and train the model"
   ]
  },
  {
   "cell_type": "code",
   "execution_count": 29,
   "metadata": {},
   "outputs": [],
   "source": [
    "x_train=wash_data[['year','month','day','hour','weekday','tem_high','tem_low','wea_day_label','wea_night_label','wind_label','wea_day','wea_night','wind','is_rest']]\n",
    "y_train=wash_data[['speed']]\n",
    "\n",
    "xgtrain = xgb.DMatrix(x_train,y_train)   #\n",
    "\n",
    "param = {'lambda':1,\n",
    "         'eta':'0.1',\n",
    "         'max_depth':8,\n",
    "         'learning_rate':'0.1',\n",
    "         'min_child_weight' :3,\n",
    "         'gamma' : 0,\n",
    "         'subsample':1,\n",
    "        'colsample_bytree':1,\n",
    "         'objective':'multi:softprob',\n",
    "        #'objective':\"reg:linear\" ,\n",
    "         'objective':\"reg:squarederror\"\n",
    "        }    \n",
    "num_round = 350  \n",
    "model = xgb.train(param, xgtrain, num_round)   # train the model"
   ]
  },
  {
   "cell_type": "markdown",
   "metadata": {},
   "source": [
    "# Read and Process Test data set "
   ]
  },
  {
   "cell_type": "code",
   "execution_count": 31,
   "metadata": {},
   "outputs": [],
   "source": [
    "test=pd.read_csv(\"test.csv\")\n",
    "test['date'] = pd.to_datetime(test['date'])\n",
    "test['year'] = test['date'].dt.year\n",
    "test['month'] = test['date'].dt.month\n",
    "test['day'] = test['date'].dt.day\n",
    "test['hour'] = test['date'].dt.hour\n",
    "test['minute'] = test['date'].dt.minute\n",
    "test['weekday'] = test['date'].dt.dayofweek\n",
    "\n",
    "wash_data_test=pd.merge(test,weather, on=[\"year\",\"month\",\"day\"])"
   ]
  },
  {
   "cell_type": "markdown",
   "metadata": {},
   "source": [
    "# Bring test data into the model for prediction"
   ]
  },
  {
   "cell_type": "code",
   "execution_count": 32,
   "metadata": {},
   "outputs": [],
   "source": [
    "x_test=wash_data_test[['year','month','day','hour','weekday','tem_high','tem_low','wea_day_label','wea_night_label','wind_label','wea_day','wea_night','wind','is_rest']]\n",
    "xgtest = xgb.DMatrix(x_test)\n",
    "\n",
    "y_test_pred = model.predict(xgtest)"
   ]
  },
  {
   "cell_type": "markdown",
   "metadata": {},
   "source": [
    "# Save test data as csv"
   ]
  },
  {
   "cell_type": "code",
   "execution_count": 35,
   "metadata": {},
   "outputs": [],
   "source": [
    "predict_test = {'id': range(len(y_test_pred)), 'speed': y_test_pred}\n",
    "predict_pd=pd.DataFrame(predict_test)\n",
    "predict_pd.to_csv('.../test.csv',index=None)"
   ]
  }
 ],
 "metadata": {
  "kernelspec": {
   "display_name": "Python 3",
   "language": "python",
   "name": "python3"
  },
  "language_info": {
   "codemirror_mode": {
    "name": "ipython",
    "version": 3
   },
   "file_extension": ".py",
   "mimetype": "text/x-python",
   "name": "python",
   "nbconvert_exporter": "python",
   "pygments_lexer": "ipython3",
   "version": "3.8.3"
  }
 },
 "nbformat": 4,
 "nbformat_minor": 4
}
